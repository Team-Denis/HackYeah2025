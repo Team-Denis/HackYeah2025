{
 "cells": [
  {
   "cell_type": "markdown",
   "id": "0a470d76",
   "metadata": {},
   "source": [
    "# Imports"
   ]
  },
  {
   "cell_type": "code",
   "execution_count": 1,
   "id": "a7c66ff6",
   "metadata": {},
   "outputs": [],
   "source": [
    "import sys\n",
    "import os\n",
    "sys.path.append(os.path.abspath(\"..\"))\n",
    "\n",
    "from db import IncidentRepository, Database, GeneralRepository"
   ]
  },
  {
   "cell_type": "markdown",
   "id": "9a2a679c",
   "metadata": {},
   "source": [
    "Initiate Location ID's"
   ]
  },
  {
   "cell_type": "code",
   "execution_count": 2,
   "id": "2ab97dfb",
   "metadata": {},
   "outputs": [
    {
     "data": {
      "text/plain": [
       "1"
      ]
     },
     "execution_count": 2,
     "metadata": {},
     "output_type": "execute_result"
    }
   ],
   "source": [
    "db = Database(\"test.db\")\n",
    "general_repo = GeneralRepository(db)\n",
    "general_repo.add_location(\"Test Location\", (12.34, 56.78))\n"
   ]
  },
  {
   "cell_type": "markdown",
   "id": "677799f8",
   "metadata": {},
   "source": [
    "Initiate Tables ID's"
   ]
  },
  {
   "cell_type": "code",
   "execution_count": 3,
   "id": "a86903e2",
   "metadata": {},
   "outputs": [],
   "source": [
    "db.fill_types()"
   ]
  },
  {
   "cell_type": "markdown",
   "id": "0995091c",
   "metadata": {},
   "source": [
    "Create Element"
   ]
  },
  {
   "cell_type": "code",
   "execution_count": null,
   "id": "66cdd0ba",
   "metadata": {},
   "outputs": [],
   "source": [
    "incident_repository = IncidentRepository(db)\n",
    "incident_repository.add_incident(\n",
    "    1, 1, 5, 0.0\n",
    ")\n",
    "incidents = incident_repository.list_incidents()\n",
    "for incident in incidents:\n",
    "    print(incident)"
   ]
  },
  {
   "cell_type": "markdown",
   "id": "8c14d328",
   "metadata": {},
   "source": [
    "# Fill with Random Data\n",
    "Will be removed to just get the already existing Data"
   ]
  },
  {
   "cell_type": "markdown",
   "id": "f7bffb0f",
   "metadata": {},
   "source": [
    "# Imports"
   ]
  },
  {
   "cell_type": "code",
   "execution_count": 4,
   "id": "9db98337",
   "metadata": {},
   "outputs": [],
   "source": [
    "import datetime as dt\n",
    "import numpy as np\n",
    "import pandas as pd"
   ]
  },
  {
   "cell_type": "markdown",
   "id": "ff9d7c6e",
   "metadata": {},
   "source": [
    "# Utils"
   ]
  },
  {
   "cell_type": "code",
   "execution_count": null,
   "id": "8a40c392",
   "metadata": {},
   "outputs": [],
   "source": [
    "def random_date(from_date, to_date):\n",
    "    \"\"\"Generate a random datetime between `from_date` and `to_date`\"\"\"\n",
    "    delta = to_date - from_date\n",
    "    int_delta = (delta.days * 24 * 60 * 60) + delta.seconds\n",
    "    random_second = np.random.randint(int_delta)\n",
    "    return from_date + dt.timedelta(seconds=random_second)"
   ]
  },
  {
   "cell_type": "code",
   "execution_count": null,
   "id": "fcb8e007",
   "metadata": {},
   "outputs": [],
   "source": [
    "def createDataSample(n):\n",
    "    n = 10  # Number of samples to create\n",
    "    id = 1  # Starting ID for incidents\n",
    "    incident_repository = IncidentRepository(db)\n",
    "    for i in range(n):\n",
    "        incident_repository.add_incident(\n",
    "            id, np.random.randint(1, 6), np.random.randint(0,11), np.random.rand()\n",
    "        )\n",
    "        id+=1\n",
    "    incidents = incident_repository.list_incidents()\n",
    "    for incident in incidents:\n",
    "        print(incident)"
   ]
  },
  {
   "cell_type": "code",
   "execution_count": 8,
   "id": "e1da3295",
   "metadata": {},
   "outputs": [
    {
     "ename": "UnboundLocalError",
     "evalue": "cannot access local variable 'id' where it is not associated with a value",
     "output_type": "error",
     "traceback": [
      "\u001b[31m---------------------------------------------------------------------------\u001b[39m",
      "\u001b[31mUnboundLocalError\u001b[39m                         Traceback (most recent call last)",
      "\u001b[36mCell\u001b[39m\u001b[36m \u001b[39m\u001b[32mIn[8]\u001b[39m\u001b[32m, line 1\u001b[39m\n\u001b[32m----> \u001b[39m\u001b[32m1\u001b[39m \u001b[43mcreateDataSample\u001b[49m\u001b[43m(\u001b[49m\u001b[43mn\u001b[49m\u001b[43m)\u001b[49m\n",
      "\u001b[36mCell\u001b[39m\u001b[36m \u001b[39m\u001b[32mIn[7]\u001b[39m\u001b[32m, line 7\u001b[39m, in \u001b[36mcreateDataSample\u001b[39m\u001b[34m(n)\u001b[39m\n\u001b[32m      4\u001b[39m \u001b[38;5;28;01mdef\u001b[39;00m\u001b[38;5;250m \u001b[39m\u001b[34mcreateDataSample\u001b[39m(n):\n\u001b[32m      5\u001b[39m     \u001b[38;5;28;01mfor\u001b[39;00m i \u001b[38;5;129;01min\u001b[39;00m \u001b[38;5;28mrange\u001b[39m(n):\n\u001b[32m      6\u001b[39m         incident_repository.add_incident(\n\u001b[32m----> \u001b[39m\u001b[32m7\u001b[39m             \u001b[38;5;28;43mid\u001b[39;49m, np.random.randint(\u001b[32m1\u001b[39m, \u001b[32m6\u001b[39m), np.random.randint(\u001b[32m0\u001b[39m,\u001b[32m11\u001b[39m), np.random.rand()\n\u001b[32m      8\u001b[39m         )\n\u001b[32m      9\u001b[39m         \u001b[38;5;28mid\u001b[39m+=\u001b[32m1\u001b[39m\n\u001b[32m     10\u001b[39m     incidents = incident_repository.list_incidents()\n",
      "\u001b[31mUnboundLocalError\u001b[39m: cannot access local variable 'id' where it is not associated with a value"
     ]
    }
   ],
   "source": [
    "createDataSample(n)"
   ]
  }
 ],
 "metadata": {
  "kernelspec": {
   "display_name": "env",
   "language": "python",
   "name": "python3"
  },
  "language_info": {
   "codemirror_mode": {
    "name": "ipython",
    "version": 3
   },
   "file_extension": ".py",
   "mimetype": "text/x-python",
   "name": "python",
   "nbconvert_exporter": "python",
   "pygments_lexer": "ipython3",
   "version": "3.13.7"
  }
 },
 "nbformat": 4,
 "nbformat_minor": 5
}
